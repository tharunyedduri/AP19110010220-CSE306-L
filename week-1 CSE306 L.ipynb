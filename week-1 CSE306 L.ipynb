{
 "cells": [
  {
   "cell_type": "markdown",
   "id": "a4366f77",
   "metadata": {},
   "source": [
    "# Implementation of Language recognizer for set of all strings over input alphabet ∑={a,b} containing even number of a’s and even number of b’s."
   ]
  },
  {
   "cell_type": "code",
   "execution_count": 11,
   "id": "0a4a1f66",
   "metadata": {},
   "outputs": [
    {
     "name": "stdout",
     "output_type": "stream",
     "text": [
      "Enter input string :- abababab\n",
      "string accepted\n"
     ]
    }
   ],
   "source": [
    "string = input('Enter input string :- ')\n",
    "state = 0\n",
    "for i in string:\n",
    "    if state == 0:\n",
    "        if i == 'a':\n",
    "            state = 1\n",
    "        elif i == 'b':\n",
    "            state = 3\n",
    "        else:\n",
    "            print('Invalid Token')\n",
    "        continue\n",
    "    elif state == 1:\n",
    "        if i == 'a':\n",
    "            state = 0\n",
    "        elif i == 'b':\n",
    "            state = 2\n",
    "        else:\n",
    "            print('Invalid Token')\n",
    "        continue\n",
    "    elif state == 2:\n",
    "        if i == 'a':\n",
    "            state = 3\n",
    "        elif i == 'b':\n",
    "            state = 1\n",
    "        else:\n",
    "            print('Invalid Token')\n",
    "        continue\n",
    "    elif state == 3:\n",
    "        if i == 'a':\n",
    "            state = 2\n",
    "        elif i == 'b':\n",
    "            state = 0\n",
    "        else:\n",
    "            print('Invalid Token')\n",
    "        continue\n",
    "if state == 0:\n",
    "    print('string accepted')\n",
    "else:\n",
    "    print('string not accepted')"
   ]
  },
  {
   "cell_type": "code",
   "execution_count": null,
   "id": "7ba06024",
   "metadata": {},
   "outputs": [],
   "source": []
  },
  {
   "cell_type": "markdown",
   "id": "d69b265b",
   "metadata": {},
   "source": [
    "# Implementation of Language recognizer for set of all strings ending with two symbols of same type"
   ]
  },
  {
   "cell_type": "code",
   "execution_count": 9,
   "id": "1ed91e15",
   "metadata": {},
   "outputs": [
    {
     "name": "stdout",
     "output_type": "stream",
     "text": [
      "Enter input string :- ababababbaa\n",
      "string accepted\n"
     ]
    }
   ],
   "source": [
    "string = input('Enter input string :- ')\n",
    "state = 0\n",
    "for i in string:\n",
    "    if state == 0:\n",
    "        if i == 'a':\n",
    "            state = 1\n",
    "        elif i == 'b':\n",
    "            state = 3\n",
    "        else:\n",
    "            print('Invalid token')\n",
    "        continue\n",
    "    elif state == 1:\n",
    "        if i == 'a':\n",
    "            state = 2\n",
    "        elif i == 'b':\n",
    "            state = 3\n",
    "        else:\n",
    "            print('Invalid token')\n",
    "        continue\n",
    "    elif state == 2:\n",
    "        if i == 'a':\n",
    "            state = 2\n",
    "        elif i == 'b':\n",
    "            state = 3\n",
    "        else:\n",
    "            print('Invalid token')\n",
    "        continue\n",
    "    elif state == 3:\n",
    "        if i == 'a':\n",
    "            state = 1\n",
    "        elif i == 'b':\n",
    "            state = 4\n",
    "        else:\n",
    "            print('Invalid token')\n",
    "        continue\n",
    "    elif state == 4:\n",
    "        if i == 'a':\n",
    "            state = 1\n",
    "        elif i == 'b':\n",
    "            state = 4\n",
    "        else:\n",
    "            print('Invalid token')\n",
    "        continue\n",
    "if state == 2 or state == 4:\n",
    "    print('string accepted')\n",
    "else:\n",
    "    print('string not accepted')"
   ]
  },
  {
   "cell_type": "code",
   "execution_count": null,
   "id": "e8e6836d",
   "metadata": {},
   "outputs": [],
   "source": []
  }
 ],
 "metadata": {
  "kernelspec": {
   "display_name": "Python 3",
   "language": "python",
   "name": "python3"
  },
  "language_info": {
   "codemirror_mode": {
    "name": "ipython",
    "version": 3
   },
   "file_extension": ".py",
   "mimetype": "text/x-python",
   "name": "python",
   "nbconvert_exporter": "python",
   "pygments_lexer": "ipython3",
   "version": "3.8.8"
  }
 },
 "nbformat": 4,
 "nbformat_minor": 5
}
